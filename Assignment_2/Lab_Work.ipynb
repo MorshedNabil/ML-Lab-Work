{
  "nbformat": 4,
  "nbformat_minor": 0,
  "metadata": {
    "colab": {
      "provenance": []
    },
    "kernelspec": {
      "name": "python3",
      "display_name": "Python 3"
    },
    "language_info": {
      "name": "python"
    }
  },
  "cells": [
    {
      "cell_type": "markdown",
      "source": [
        "# **Drive Mounting**"
      ],
      "metadata": {
        "id": "TK1XWQNCz_SE"
      }
    },
    {
      "cell_type": "code",
      "execution_count": null,
      "metadata": {
        "id": "9tIn2RLQqHCJ",
        "colab": {
          "base_uri": "https://localhost:8080/"
        },
        "outputId": "d3d89ba8-4db7-4857-a355-f0efb0a1d8ab"
      },
      "outputs": [
        {
          "output_type": "stream",
          "name": "stdout",
          "text": [
            "Drive already mounted at /content/drive; to attempt to forcibly remount, call drive.mount(\"/content/drive\", force_remount=True).\n"
          ]
        }
      ],
      "source": [
        "import pandas as pd\n",
        "from google.colab import drive\n",
        "#mount the drive\n",
        "drive.mount('/content/drive')"
      ]
    },
    {
      "cell_type": "markdown",
      "source": [
        "## **Data Set reading using Pandas**"
      ],
      "metadata": {
        "id": "tmh_t6ab0wfj"
      }
    },
    {
      "cell_type": "code",
      "source": [
        "dataset_path = '/content/drive/MyDrive/Machine Learning Lab/StudentsPerformance.csv'\n",
        "\n",
        "df = pd.read_csv(dataset_path)"
      ],
      "metadata": {
        "id": "NaSZao2pyNOK"
      },
      "execution_count": null,
      "outputs": []
    },
    {
      "cell_type": "code",
      "source": [
        "df #printing the dataset"
      ],
      "metadata": {
        "collapsed": true,
        "id": "-TAOjAVByNIi"
      },
      "execution_count": null,
      "outputs": []
    },
    {
      "cell_type": "code",
      "source": [
        "df.info()"
      ],
      "metadata": {
        "colab": {
          "base_uri": "https://localhost:8080/"
        },
        "collapsed": true,
        "id": "Z7sZEdZx4Zp0",
        "outputId": "f43635e1-d936-4201-d9d0-ebb01dbcbc98"
      },
      "execution_count": null,
      "outputs": [
        {
          "output_type": "stream",
          "name": "stdout",
          "text": [
            "<class 'pandas.core.frame.DataFrame'>\n",
            "RangeIndex: 225745 entries, 0 to 225744\n",
            "Data columns (total 79 columns):\n",
            " #   Column                        Non-Null Count   Dtype  \n",
            "---  ------                        --------------   -----  \n",
            " 0    Destination Port             225745 non-null  int64  \n",
            " 1    Flow Duration                225745 non-null  int64  \n",
            " 2    Total Fwd Packets            225745 non-null  int64  \n",
            " 3    Total Backward Packets       225745 non-null  int64  \n",
            " 4   Total Length of Fwd Packets   225745 non-null  int64  \n",
            " 5    Total Length of Bwd Packets  225745 non-null  int64  \n",
            " 6    Fwd Packet Length Max        225745 non-null  int64  \n",
            " 7    Fwd Packet Length Min        225745 non-null  int64  \n",
            " 8    Fwd Packet Length Mean       225745 non-null  float64\n",
            " 9    Fwd Packet Length Std        225745 non-null  float64\n",
            " 10  Bwd Packet Length Max         225745 non-null  int64  \n",
            " 11   Bwd Packet Length Min        225745 non-null  int64  \n",
            " 12   Bwd Packet Length Mean       225745 non-null  float64\n",
            " 13   Bwd Packet Length Std        225745 non-null  float64\n",
            " 14  Flow Bytes/s                  225741 non-null  float64\n",
            " 15   Flow Packets/s               225745 non-null  float64\n",
            " 16   Flow IAT Mean                225745 non-null  float64\n",
            " 17   Flow IAT Std                 225745 non-null  float64\n",
            " 18   Flow IAT Max                 225745 non-null  int64  \n",
            " 19   Flow IAT Min                 225745 non-null  int64  \n",
            " 20  Fwd IAT Total                 225745 non-null  int64  \n",
            " 21   Fwd IAT Mean                 225745 non-null  float64\n",
            " 22   Fwd IAT Std                  225745 non-null  float64\n",
            " 23   Fwd IAT Max                  225745 non-null  int64  \n",
            " 24   Fwd IAT Min                  225745 non-null  int64  \n",
            " 25  Bwd IAT Total                 225745 non-null  int64  \n",
            " 26   Bwd IAT Mean                 225745 non-null  float64\n",
            " 27   Bwd IAT Std                  225745 non-null  float64\n",
            " 28   Bwd IAT Max                  225745 non-null  int64  \n",
            " 29   Bwd IAT Min                  225745 non-null  int64  \n",
            " 30  Fwd PSH Flags                 225745 non-null  int64  \n",
            " 31   Bwd PSH Flags                225745 non-null  int64  \n",
            " 32   Fwd URG Flags                225745 non-null  int64  \n",
            " 33   Bwd URG Flags                225745 non-null  int64  \n",
            " 34   Fwd Header Length            225745 non-null  int64  \n",
            " 35   Bwd Header Length            225745 non-null  int64  \n",
            " 36  Fwd Packets/s                 225745 non-null  float64\n",
            " 37   Bwd Packets/s                225745 non-null  float64\n",
            " 38   Min Packet Length            225745 non-null  int64  \n",
            " 39   Max Packet Length            225745 non-null  int64  \n",
            " 40   Packet Length Mean           225745 non-null  float64\n",
            " 41   Packet Length Std            225745 non-null  float64\n",
            " 42   Packet Length Variance       225745 non-null  float64\n",
            " 43  FIN Flag Count                225745 non-null  int64  \n",
            " 44   SYN Flag Count               225745 non-null  int64  \n",
            " 45   RST Flag Count               225745 non-null  int64  \n",
            " 46   PSH Flag Count               225745 non-null  int64  \n",
            " 47   ACK Flag Count               225745 non-null  int64  \n",
            " 48   URG Flag Count               225745 non-null  int64  \n",
            " 49   CWE Flag Count               225745 non-null  int64  \n",
            " 50   ECE Flag Count               225745 non-null  int64  \n",
            " 51   Down/Up Ratio                225745 non-null  int64  \n",
            " 52   Average Packet Size          225745 non-null  float64\n",
            " 53   Avg Fwd Segment Size         225745 non-null  float64\n",
            " 54   Avg Bwd Segment Size         225745 non-null  float64\n",
            " 55   Fwd Header Length.1          225745 non-null  int64  \n",
            " 56  Fwd Avg Bytes/Bulk            225745 non-null  int64  \n",
            " 57   Fwd Avg Packets/Bulk         225745 non-null  int64  \n",
            " 58   Fwd Avg Bulk Rate            225745 non-null  int64  \n",
            " 59   Bwd Avg Bytes/Bulk           225745 non-null  int64  \n",
            " 60   Bwd Avg Packets/Bulk         225745 non-null  int64  \n",
            " 61  Bwd Avg Bulk Rate             225745 non-null  int64  \n",
            " 62  Subflow Fwd Packets           225745 non-null  int64  \n",
            " 63   Subflow Fwd Bytes            225745 non-null  int64  \n",
            " 64   Subflow Bwd Packets          225745 non-null  int64  \n",
            " 65   Subflow Bwd Bytes            225745 non-null  int64  \n",
            " 66  Init_Win_bytes_forward        225745 non-null  int64  \n",
            " 67   Init_Win_bytes_backward      225745 non-null  int64  \n",
            " 68   act_data_pkt_fwd             225745 non-null  int64  \n",
            " 69   min_seg_size_forward         225745 non-null  int64  \n",
            " 70  Active Mean                   225745 non-null  float64\n",
            " 71   Active Std                   225745 non-null  float64\n",
            " 72   Active Max                   225745 non-null  int64  \n",
            " 73   Active Min                   225745 non-null  int64  \n",
            " 74  Idle Mean                     225745 non-null  float64\n",
            " 75   Idle Std                     225745 non-null  float64\n",
            " 76   Idle Max                     225745 non-null  int64  \n",
            " 77   Idle Min                     225745 non-null  int64  \n",
            " 78   Label                        225745 non-null  object \n",
            "dtypes: float64(24), int64(54), object(1)\n",
            "memory usage: 136.1+ MB\n"
          ]
        }
      ]
    },
    {
      "cell_type": "code",
      "source": [
        "df.columns"
      ],
      "metadata": {
        "colab": {
          "base_uri": "https://localhost:8080/"
        },
        "id": "2ICgT0OuobC1",
        "outputId": "1086b46a-bd5d-49e1-eb39-7deed20bcb34"
      },
      "execution_count": null,
      "outputs": [
        {
          "output_type": "execute_result",
          "data": {
            "text/plain": [
              "Index(['gender', 'race/ethnicity', 'parental level of education', 'lunch',\n",
              "       'test preparation course', 'math score', 'reading score',\n",
              "       'writing score'],\n",
              "      dtype='object')"
            ]
          },
          "metadata": {},
          "execution_count": 4
        }
      ]
    },
    {
      "cell_type": "code",
      "source": [
        "df.shape"
      ],
      "metadata": {
        "colab": {
          "base_uri": "https://localhost:8080/"
        },
        "id": "f5kY5wnGoa-M",
        "outputId": "0cad2f01-0ddb-4de7-d0b3-e6117e19b4e1"
      },
      "execution_count": null,
      "outputs": [
        {
          "output_type": "execute_result",
          "data": {
            "text/plain": [
              "(1000, 8)"
            ]
          },
          "metadata": {},
          "execution_count": 5
        }
      ]
    },
    {
      "cell_type": "code",
      "source": [
        "# identifying the null values in dataset\n",
        "#by sum() function for each column the null cells will be calculated\n",
        "df.isnull().sum()"
      ],
      "metadata": {
        "colab": {
          "base_uri": "https://localhost:8080/",
          "height": 335
        },
        "id": "wgUvDyg1pXRl",
        "outputId": "d8c498a4-cc39-4166-8c3c-a94dc94ba72b"
      },
      "execution_count": null,
      "outputs": [
        {
          "output_type": "execute_result",
          "data": {
            "text/plain": [
              "gender                         0\n",
              "race/ethnicity                 0\n",
              "parental level of education    0\n",
              "lunch                          0\n",
              "test preparation course        0\n",
              "math score                     0\n",
              "reading score                  0\n",
              "writing score                  0\n",
              "dtype: int64"
            ],
            "text/html": [
              "<div>\n",
              "<style scoped>\n",
              "    .dataframe tbody tr th:only-of-type {\n",
              "        vertical-align: middle;\n",
              "    }\n",
              "\n",
              "    .dataframe tbody tr th {\n",
              "        vertical-align: top;\n",
              "    }\n",
              "\n",
              "    .dataframe thead th {\n",
              "        text-align: right;\n",
              "    }\n",
              "</style>\n",
              "<table border=\"1\" class=\"dataframe\">\n",
              "  <thead>\n",
              "    <tr style=\"text-align: right;\">\n",
              "      <th></th>\n",
              "      <th>0</th>\n",
              "    </tr>\n",
              "  </thead>\n",
              "  <tbody>\n",
              "    <tr>\n",
              "      <th>gender</th>\n",
              "      <td>0</td>\n",
              "    </tr>\n",
              "    <tr>\n",
              "      <th>race/ethnicity</th>\n",
              "      <td>0</td>\n",
              "    </tr>\n",
              "    <tr>\n",
              "      <th>parental level of education</th>\n",
              "      <td>0</td>\n",
              "    </tr>\n",
              "    <tr>\n",
              "      <th>lunch</th>\n",
              "      <td>0</td>\n",
              "    </tr>\n",
              "    <tr>\n",
              "      <th>test preparation course</th>\n",
              "      <td>0</td>\n",
              "    </tr>\n",
              "    <tr>\n",
              "      <th>math score</th>\n",
              "      <td>0</td>\n",
              "    </tr>\n",
              "    <tr>\n",
              "      <th>reading score</th>\n",
              "      <td>0</td>\n",
              "    </tr>\n",
              "    <tr>\n",
              "      <th>writing score</th>\n",
              "      <td>0</td>\n",
              "    </tr>\n",
              "  </tbody>\n",
              "</table>\n",
              "</div><br><label><b>dtype:</b> int64</label>"
            ]
          },
          "metadata": {},
          "execution_count": 8
        }
      ]
    }
  ]
}