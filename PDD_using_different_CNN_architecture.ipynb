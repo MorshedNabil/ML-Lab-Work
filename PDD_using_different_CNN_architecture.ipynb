{
  "nbformat": 4,
  "nbformat_minor": 0,
  "metadata": {
    "colab": {
      "provenance": [],
      "toc_visible": true,
      "gpuType": "T4",
      "authorship_tag": "ABX9TyPEZ56x86/POy9pdyuV6k2O",
      "include_colab_link": true
    },
    "kernelspec": {
      "name": "python3",
      "display_name": "Python 3"
    },
    "language_info": {
      "name": "python"
    },
    "accelerator": "GPU"
  },
  "cells": [
    {
      "cell_type": "markdown",
      "metadata": {
        "id": "view-in-github",
        "colab_type": "text"
      },
      "source": [
        "<a href=\"https://colab.research.google.com/github/MorshedNabil/ML-Lab-Work/blob/master/PDD_using_different_CNN_architecture.ipynb\" target=\"_parent\"><img src=\"https://colab.research.google.com/assets/colab-badge.svg\" alt=\"Open In Colab\"/></a>"
      ]
    },
    {
      "cell_type": "markdown",
      "source": [
        "# **Dataset insertion & preprocess**"
      ],
      "metadata": {
        "id": "epv35viY7V1C"
      }
    },
    {
      "cell_type": "code",
      "source": [
        "import os\n",
        "import tensorflow as tf\n",
        "from tensorflow.keras.preprocessing.image import ImageDataGenerator\n",
        "\n",
        "from google.colab import drive\n",
        "drive.mount('/content/drive')"
      ],
      "metadata": {
        "colab": {
          "base_uri": "https://localhost:8080/"
        },
        "id": "TTuSLLQ37eIO",
        "outputId": "21fa6af6-4ae2-413f-e235-2eda12034529"
      },
      "execution_count": 4,
      "outputs": [
        {
          "output_type": "stream",
          "name": "stdout",
          "text": [
            "Mounted at /content/drive\n"
          ]
        }
      ]
    },
    {
      "cell_type": "code",
      "source": [
        "data_path = '/content/drive/MyDrive/Plants'\n",
        "# Make sure inside \"dataset\" you have subfolders for each class, e.g.:\n",
        "# dataset/cat/*.jpg\n",
        "# dataset/dog/*.jpg"
      ],
      "metadata": {
        "id": "Cb30usru8Oy6"
      },
      "execution_count": 5,
      "outputs": []
    },
    {
      "cell_type": "code",
      "source": [
        "import os\n",
        "\n",
        "import numpy as np\n",
        "from keras import backend as K\n",
        "from sklearn.preprocessing import LabelBinarizer\n",
        "from sklearn.model_selection import train_test_split\n",
        "from keras.preprocessing.image import img_to_array\n",
        "import random\n",
        "import cv2\n",
        "\n",
        "\n",
        "\n",
        "def load_data(dataset_path):\n",
        "  data=[]\n",
        "  labels=[]\n",
        "  random.seed(42)\n",
        "  imagePaths = sorted(list(os.listdir(dataset_path))) # listing paths of the 3 folders inside the main dataset folder\n",
        "  random.shuffle(imagePaths)\n",
        "  print(imagePaths)\n",
        "\n",
        "  for img in imagePaths:\n",
        "    path=sorted(list(os.listdir(dataset_path + '/'+ img)))\n",
        "    for i in path:\n",
        "        image = cv2.imread(dataset_path + '/' + img +'/'+ i) # Added '/' here\n",
        "        if image is not None: # Added check here\n",
        "            image = cv2.resize(image, (224,224)) # resizing the each image\n",
        "            image = img_to_array(image)\n",
        "            data.append(image)\n",
        "            l = label = img\n",
        "            labels.append(l)\n",
        "        else:\n",
        "            print(f\"Warning: Could not read image file {dataset_path + '/' + img + '/' + i}. Skipping.\") # Added warning\n",
        "  data = np.array(data, dtype=\"float32\") / 255.0 #normalizing images\n",
        "  labels = np.array(labels)\n",
        "  mlb = LabelBinarizer()\n",
        "  labels = mlb.fit_transform(labels)\n",
        "  print(f\"first 5 labels: {labels[:5]}\")\n",
        "\n",
        "  (xtrain,xtest,ytrain,ytest)=train_test_split(data,labels,test_size=0.25,random_state=42)\n",
        "  print(f\"train shape: {xtrain.shape}, test shape: {xtest.shape}\")\n",
        "  return xtrain, ytrain, xtest, ytest, mlb # Return mlb here"
      ],
      "metadata": {
        "id": "JMsfAAyMKEow"
      },
      "execution_count": 6,
      "outputs": []
    },
    {
      "cell_type": "code",
      "source": [
        "# train test split\n",
        "X_train, y_train, X_test, y_test, mlb = load_data(data_path)\n",
        "\n",
        "#print(\"Class labels:\", y_train)"
      ],
      "metadata": {
        "colab": {
          "base_uri": "https://localhost:8080/"
        },
        "id": "S-utmpCa-rVm",
        "outputId": "b91e7adb-dfae-49f0-c5b4-d5891c9d9061"
      },
      "execution_count": 7,
      "outputs": [
        {
          "output_type": "stream",
          "name": "stdout",
          "text": [
            "['Potato_Late_blight', 'Potato_Early_blight', 'Potato_healthy']\n",
            "first 5 labels: [[0 1 0]\n",
            " [0 1 0]\n",
            " [0 1 0]\n",
            " [0 1 0]\n",
            " [0 1 0]]\n",
            "train shape: (1629, 224, 224, 3), test shape: (543, 224, 224, 3)\n"
          ]
        }
      ]
    },
    {
      "cell_type": "markdown",
      "source": [
        "# **DenseNet Model Initialization & Train**"
      ],
      "metadata": {
        "id": "9kuZYhGp5Rll"
      }
    },
    {
      "cell_type": "code",
      "source": [
        "# Fit model (DenseNet121)\n",
        "from tensorflow.keras.applications import DenseNet121\n",
        "from tensorflow.keras import layers, models\n",
        "\n",
        "num_classes = y_train.shape[1] # Get the number of classes from the shape of y_train\n",
        "\n",
        "base_model = DenseNet121(weights=\"imagenet\", include_top=False, input_shape=(224,224,3))\n",
        "x = layers.GlobalAveragePooling2D()(base_model.output)\n",
        "x = layers.Dense(128, activation=\"relu\")(x)\n",
        "output = layers.Dense(num_classes, activation=\"softmax\")(x) # Use num_classes here\n",
        "model = models.Model(inputs=base_model.input, outputs=output)\n",
        "\n",
        "model.compile(optimizer=\"adam\", loss=\"categorical_crossentropy\", metrics=[\"accuracy\"])\n",
        "\n",
        "# Train\n",
        "model.fit(X_train, y_train, batch_size=32, validation_data=(X_test, y_test), epochs=5) # Use X_train, y_train, X_test, y_test"
      ],
      "metadata": {
        "colab": {
          "base_uri": "https://localhost:8080/"
        },
        "id": "dMMmE4C07QHC",
        "outputId": "0cec9d74-ba34-4816-f819-f6946e888b4f",
        "collapsed": true
      },
      "execution_count": null,
      "outputs": [
        {
          "output_type": "stream",
          "name": "stdout",
          "text": [
            "Downloading data from https://storage.googleapis.com/tensorflow/keras-applications/densenet/densenet121_weights_tf_dim_ordering_tf_kernels_notop.h5\n",
            "\u001b[1m29084464/29084464\u001b[0m \u001b[32m━━━━━━━━━━━━━━━━━━━━\u001b[0m\u001b[37m\u001b[0m \u001b[1m0s\u001b[0m 0us/step\n",
            "Epoch 1/5\n",
            "\u001b[1m51/51\u001b[0m \u001b[32m━━━━━━━━━━━━━━━━━━━━\u001b[0m\u001b[37m\u001b[0m \u001b[1m354s\u001b[0m 3s/step - accuracy: 0.8775 - loss: 0.3345 - val_accuracy: 0.4899 - val_loss: 2.8623\n",
            "Epoch 2/5\n",
            "\u001b[1m51/51\u001b[0m \u001b[32m━━━━━━━━━━━━━━━━━━━━\u001b[0m\u001b[37m\u001b[0m \u001b[1m42s\u001b[0m 287ms/step - accuracy: 0.9748 - loss: 0.0685 - val_accuracy: 0.4899 - val_loss: 10.0772\n",
            "Epoch 3/5\n",
            "\u001b[1m51/51\u001b[0m \u001b[32m━━━━━━━━━━━━━━━━━━━━\u001b[0m\u001b[37m\u001b[0m \u001b[1m22s\u001b[0m 318ms/step - accuracy: 0.9979 - loss: 0.0110 - val_accuracy: 0.7882 - val_loss: 1.5128\n",
            "Epoch 4/5\n",
            "\u001b[1m51/51\u001b[0m \u001b[32m━━━━━━━━━━━━━━━━━━━━\u001b[0m\u001b[37m\u001b[0m \u001b[1m19s\u001b[0m 292ms/step - accuracy: 0.9937 - loss: 0.0241 - val_accuracy: 0.9098 - val_loss: 0.2563\n",
            "Epoch 5/5\n",
            "\u001b[1m51/51\u001b[0m \u001b[32m━━━━━━━━━━━━━━━━━━━━\u001b[0m\u001b[37m\u001b[0m \u001b[1m15s\u001b[0m 293ms/step - accuracy: 0.9800 - loss: 0.0562 - val_accuracy: 0.6151 - val_loss: 3.0219\n"
          ]
        },
        {
          "output_type": "execute_result",
          "data": {
            "text/plain": [
              "<keras.src.callbacks.history.History at 0x7f435022b740>"
            ]
          },
          "metadata": {},
          "execution_count": 5
        }
      ]
    },
    {
      "cell_type": "markdown",
      "source": [
        "# **Model Evaluation (DenseNet)**"
      ],
      "metadata": {
        "id": "JEdofLLZGaTJ"
      }
    },
    {
      "cell_type": "code",
      "source": [
        "# Evaluate the model on validation data\n",
        "val_loss, val_acc = model.evaluate(X_test, y_test)\n",
        "print(f\"Validation Loss: {val_loss:.4f}\")\n",
        "print(f\"Validation Accuracy: {val_acc:.4f}\")\n"
      ],
      "metadata": {
        "id": "7GCkWj5vIMfT",
        "colab": {
          "base_uri": "https://localhost:8080/"
        },
        "outputId": "8c3d5590-da4a-48e2-8852-89c8a03ccec1"
      },
      "execution_count": null,
      "outputs": [
        {
          "output_type": "stream",
          "name": "stdout",
          "text": [
            "\u001b[1m17/17\u001b[0m \u001b[32m━━━━━━━━━━━━━━━━━━━━\u001b[0m\u001b[37m\u001b[0m \u001b[1m1s\u001b[0m 76ms/step - accuracy: 0.6316 - loss: 3.0694\n",
            "Validation Loss: 3.0219\n",
            "Validation Accuracy: 0.6151\n"
          ]
        }
      ]
    },
    {
      "cell_type": "code",
      "source": [
        "import numpy as np\n",
        "\n",
        "# Get predictions\n",
        "y_pred = model.predict(X_test)\n",
        "y_pred_classes = np.argmax(y_pred, axis=1)"
      ],
      "metadata": {
        "colab": {
          "base_uri": "https://localhost:8080/"
        },
        "id": "8Yd_RKKbuhv-",
        "outputId": "4bfb47fc-aab3-403d-f1f2-84b63ae8c33c"
      },
      "execution_count": null,
      "outputs": [
        {
          "output_type": "stream",
          "name": "stdout",
          "text": [
            "\u001b[1m17/17\u001b[0m \u001b[32m━━━━━━━━━━━━━━━━━━━━\u001b[0m\u001b[37m\u001b[0m \u001b[1m26s\u001b[0m 807ms/step\n"
          ]
        }
      ]
    },
    {
      "cell_type": "code",
      "source": [
        "# Now you can access the class names using mlb.classes_\n",
        "class_labels = mlb.classes_\n",
        "print(\"Class names:\", class_labels)\n",
        "\n",
        "# Example of how to get the true class name for the first test sample\n",
        "first_true_class_index = np.argmax(y_test[0])\n",
        "first_true_class_name = class_labels[first_true_class_index]\n",
        "print(f\"True class name for the first test sample: {first_true_class_name}\")\n",
        "\n",
        "# Example of how to get the predicted class name for the first test sample\n",
        "# Assuming you have already run the prediction cell (ct0ZyT1uGV63) and have y_pred_classes\n",
        "# first_predicted_class_index = y_pred_classes[0]\n",
        "# first_predicted_class_name = class_labels[first_predicted_class_index]\n",
        "# print(f\"Predicted class name for the first test sample: {first_predicted_class_name}\")"
      ],
      "metadata": {
        "id": "dEjleJfEU4Fr",
        "colab": {
          "base_uri": "https://localhost:8080/"
        },
        "outputId": "0a8ebef5-f3c2-40c7-da6c-c7c64d787d50"
      },
      "execution_count": null,
      "outputs": [
        {
          "output_type": "stream",
          "name": "stdout",
          "text": [
            "Class names: ['Potato_Early_blight' 'Potato_Late_blight' 'Potato_healthy']\n",
            "True class name for the first test sample: Potato_Early_blight\n"
          ]
        }
      ]
    },
    {
      "cell_type": "code",
      "source": [
        "y_test"
      ],
      "metadata": {
        "colab": {
          "base_uri": "https://localhost:8080/"
        },
        "id": "3Nf7cf2m4RM8",
        "outputId": "feee677d-4841-42ec-9d64-6421df575b58"
      },
      "execution_count": null,
      "outputs": [
        {
          "output_type": "execute_result",
          "data": {
            "text/plain": [
              "array([[1, 0, 0],\n",
              "       [0, 1, 0],\n",
              "       [1, 0, 0],\n",
              "       ...,\n",
              "       [0, 1, 0],\n",
              "       [1, 0, 0],\n",
              "       [0, 1, 0]])"
            ]
          },
          "metadata": {},
          "execution_count": 17
        }
      ]
    },
    {
      "cell_type": "code",
      "source": [
        "# True labels\n",
        "y_true_indices = np.argmax(y_test, axis=1) # Get the indices of the true classes\n",
        "\n",
        "# Class labels (from mlb object)\n",
        "# Make sure you have run the cell that calls load_data and receives the mlb object\n",
        "# For this cell to work, mlb must be defined in a previous cell\n",
        "if 'mlb' in globals():\n",
        "    class_labels = mlb.classes_\n",
        "    print(\"Class names:\", class_labels)\n",
        "\n",
        "    # Show first 10 predictions with actual class names\n",
        "    print(\"\\nFirst 10 predictions with actual class names:\")\n",
        "    for i in range(min(10, len(y_test))):\n",
        "        true_class_name = class_labels[y_true_indices[i]]\n",
        "        predicted_class_name = class_labels[y_pred_classes[i]]\n",
        "\n",
        "        print(f\"True: {true_class_name}, Predicted: {predicted_class_name}\")\n",
        "else:\n",
        "    print(\"Error: mlb object not found. Please run the cell that loads the data and returns mlb.\")"
      ],
      "metadata": {
        "id": "ct0ZyT1uGV63",
        "colab": {
          "base_uri": "https://localhost:8080/"
        },
        "outputId": "9e87ac82-efeb-4900-f262-ca2a983c21fb"
      },
      "execution_count": null,
      "outputs": [
        {
          "output_type": "stream",
          "name": "stdout",
          "text": [
            "Class names: ['Potato_Early_blight' 'Potato_Late_blight' 'Potato_healthy']\n",
            "\n",
            "First 10 predictions with actual class names:\n",
            "True: Potato_Early_blight, Predicted: Potato_Late_blight\n",
            "True: Potato_Late_blight, Predicted: Potato_Late_blight\n",
            "True: Potato_Early_blight, Predicted: Potato_Late_blight\n",
            "True: Potato_Late_blight, Predicted: Potato_Late_blight\n",
            "True: Potato_Late_blight, Predicted: Potato_Late_blight\n",
            "True: Potato_Late_blight, Predicted: Potato_Late_blight\n",
            "True: Potato_Late_blight, Predicted: Potato_Late_blight\n",
            "True: Potato_healthy, Predicted: Potato_healthy\n",
            "True: Potato_healthy, Predicted: Potato_Late_blight\n",
            "True: Potato_Late_blight, Predicted: Potato_Late_blight\n"
          ]
        }
      ]
    },
    {
      "cell_type": "code",
      "metadata": {
        "id": "1dfff915",
        "colab": {
          "base_uri": "https://localhost:8080/",
          "height": 564
        },
        "outputId": "59f9cc87-e41a-4d53-c6fe-f3cdf23e2e3a"
      },
      "source": [
        "from sklearn.metrics import confusion_matrix\n",
        "import seaborn as sns\n",
        "import matplotlib.pyplot as plt\n",
        "\n",
        "# Generate the confusion matrix\n",
        "cm = confusion_matrix(y_true_indices, y_pred_classes)\n",
        "\n",
        "# Display the confusion matrix using seaborn\n",
        "plt.figure(figsize=(8, 6))\n",
        "sns.heatmap(cm, annot=True, fmt='d', cmap='Blues', xticklabels=class_labels, yticklabels=class_labels)\n",
        "plt.xlabel('Predicted Label')\n",
        "plt.ylabel('True Label')\n",
        "plt.title('Confusion Matrix')\n",
        "plt.show()"
      ],
      "execution_count": null,
      "outputs": [
        {
          "output_type": "display_data",
          "data": {
            "text/plain": [
              "<Figure size 800x600 with 2 Axes>"
            ],
            "image/png": "[encoded data removed]"
          },
          "metadata": {}
        }
      ]
    },
    {
      "cell_type": "markdown",
      "source": [
        "# **EfficientNet Model initialization & Train**"
      ],
      "metadata": {
        "id": "FQ7ghnJsP3pj"
      }
    },
    {
      "cell_type": "code",
      "source": [
        "from tensorflow.keras import layers, models\n",
        "from tensorflow.keras.applications import EfficientNetB0\n",
        "\n",
        "NUM_CLASSES = 3\n",
        "IMG_SIZE = 224\n",
        "size = (IMG_SIZE, IMG_SIZE)\n",
        "\n",
        "\n",
        "inputs = layers.Input(shape=(IMG_SIZE, IMG_SIZE, 3))\n",
        "\n",
        "\n",
        "# Using model without transfer learning\n",
        "\n",
        "outputs = EfficientNetB0(include_top=True, weights=None, classes=NUM_CLASSES)(inputs)\n",
        "model = models.Model(inputs, outputs)\n",
        "\n",
        "model.compile(optimizer=\"adam\", loss=\"categorical_crossentropy\", metrics=[\"accuracy\"] )\n",
        "\n",
        "model.summary()\n",
        "\n",
        "model.fit(X_train, y_train, epochs=10, verbose=2)"
      ],
      "metadata": {
        "colab": {
          "base_uri": "https://localhost:8080/",
          "height": 569
        },
        "id": "5IeRdTAFP3VC",
        "outputId": "d047d5e2-caaf-4bb0-bd2c-274a10c55cf9"
      },
      "execution_count": null,
      "outputs": [
        {
          "output_type": "display_data",
          "data": {
            "text/plain": [
              "\u001b[1mModel: \"functional_1\"\u001b[0m\n"
            ],
            "text/html": [
              "<pre style=\"white-space:pre;overflow-x:auto;line-height:normal;font-family:Menlo,'DejaVu Sans Mono',consolas,'Courier New',monospace\"><span style=\"font-weight: bold\">Model: \"functional_1\"</span>\n",
              "</pre>\n"
            ]
          },
          "metadata": {}
        },
        {
          "output_type": "display_data",
          "data": {
            "text/plain": [
              "┏━━━━━━━━━━━━━━━━━━━━━━━━━━━━━━━━━┳━━━━━━━━━━━━━━━━━━━━━━━━┳━━━━━━━━━━━━━━━┓\n",
              "┃\u001b[1m \u001b[0m\u001b[1mLayer (type)                   \u001b[0m\u001b[1m \u001b[0m┃\u001b[1m \u001b[0m\u001b[1mOutput Shape          \u001b[0m\u001b[1m \u001b[0m┃\u001b[1m \u001b[0m\u001b[1m      Param #\u001b[0m\u001b[1m \u001b[0m┃\n",
              "┡━━━━━━━━━━━━━━━━━━━━━━━━━━━━━━━━━╇━━━━━━━━━━━━━━━━━━━━━━━━╇━━━━━━━━━━━━━━━┩\n",
              "│ input_layer_1 (\u001b[38;5;33mInputLayer\u001b[0m)      │ (\u001b[38;5;45mNone\u001b[0m, \u001b[38;5;34m224\u001b[0m, \u001b[38;5;34m224\u001b[0m, \u001b[38;5;34m3\u001b[0m)    │             \u001b[38;5;34m0\u001b[0m │\n",
              "├─────────────────────────────────┼────────────────────────┼───────────────┤\n",
              "│ efficientnetb0 (\u001b[38;5;33mFunctional\u001b[0m)     │ (\u001b[38;5;45mNone\u001b[0m, \u001b[38;5;34m3\u001b[0m)              │     \u001b[38;5;34m4,053,414\u001b[0m │\n",
              "└─────────────────────────────────┴────────────────────────┴───────────────┘\n"
            ],
            "text/html": [
              "<pre style=\"white-space:pre;overflow-x:auto;line-height:normal;font-family:Menlo,'DejaVu Sans Mono',consolas,'Courier New',monospace\">┏━━━━━━━━━━━━━━━━━━━━━━━━━━━━━━━━━┳━━━━━━━━━━━━━━━━━━━━━━━━┳━━━━━━━━━━━━━━━┓\n",
              "┃<span style=\"font-weight: bold\"> Layer (type)                    </span>┃<span style=\"font-weight: bold\"> Output Shape           </span>┃<span style=\"font-weight: bold\">       Param # </span>┃\n",
              "┡━━━━━━━━━━━━━━━━━━━━━━━━━━━━━━━━━╇━━━━━━━━━━━━━━━━━━━━━━━━╇━━━━━━━━━━━━━━━┩\n",
              "│ input_layer_1 (<span style=\"color: #0087ff; text-decoration-color: #0087ff\">InputLayer</span>)      │ (<span style=\"color: #00d7ff; text-decoration-color: #00d7ff\">None</span>, <span style=\"color: #00af00; text-decoration-color: #00af00\">224</span>, <span style=\"color: #00af00; text-decoration-color: #00af00\">224</span>, <span style=\"color: #00af00; text-decoration-color: #00af00\">3</span>)    │             <span style=\"color: #00af00; text-decoration-color: #00af00\">0</span> │\n",
              "├─────────────────────────────────┼────────────────────────┼───────────────┤\n",
              "│ efficientnetb0 (<span style=\"color: #0087ff; text-decoration-color: #0087ff\">Functional</span>)     │ (<span style=\"color: #00d7ff; text-decoration-color: #00d7ff\">None</span>, <span style=\"color: #00af00; text-decoration-color: #00af00\">3</span>)              │     <span style=\"color: #00af00; text-decoration-color: #00af00\">4,053,414</span> │\n",
              "└─────────────────────────────────┴────────────────────────┴───────────────┘\n",
              "</pre>\n"
            ]
          },
          "metadata": {}
        },
        {
          "output_type": "display_data",
          "data": {
            "text/plain": [
              "\u001b[1m Total params: \u001b[0m\u001b[38;5;34m4,053,414\u001b[0m (15.46 MB)\n"
            ],
            "text/html": [
              "<pre style=\"white-space:pre;overflow-x:auto;line-height:normal;font-family:Menlo,'DejaVu Sans Mono',consolas,'Courier New',monospace\"><span style=\"font-weight: bold\"> Total params: </span><span style=\"color: #00af00; text-decoration-color: #00af00\">4,053,414</span> (15.46 MB)\n",
              "</pre>\n"
            ]
          },
          "metadata": {}
        },
        {
          "output_type": "display_data",
          "data": {
            "text/plain": [
              "\u001b[1m Trainable params: \u001b[0m\u001b[38;5;34m4,011,391\u001b[0m (15.30 MB)\n"
            ],
            "text/html": [
              "<pre style=\"white-space:pre;overflow-x:auto;line-height:normal;font-family:Menlo,'DejaVu Sans Mono',consolas,'Courier New',monospace\"><span style=\"font-weight: bold\"> Trainable params: </span><span style=\"color: #00af00; text-decoration-color: #00af00\">4,011,391</span> (15.30 MB)\n",
              "</pre>\n"
            ]
          },
          "metadata": {}
        },
        {
          "output_type": "display_data",
          "data": {
            "text/plain": [
              "\u001b[1m Non-trainable params: \u001b[0m\u001b[38;5;34m42,023\u001b[0m (164.16 KB)\n"
            ],
            "text/html": [
              "<pre style=\"white-space:pre;overflow-x:auto;line-height:normal;font-family:Menlo,'DejaVu Sans Mono',consolas,'Courier New',monospace\"><span style=\"font-weight: bold\"> Non-trainable params: </span><span style=\"color: #00af00; text-decoration-color: #00af00\">42,023</span> (164.16 KB)\n",
              "</pre>\n"
            ]
          },
          "metadata": {}
        },
        {
          "output_type": "stream",
          "name": "stdout",
          "text": [
            "Epoch 1/10\n",
            "51/51 - 143s - 3s/step - accuracy: 0.7551 - loss: 1.2717\n",
            "Epoch 2/10\n",
            "51/51 - 6s - 120ms/step - accuracy: 0.8649 - loss: 0.4086\n",
            "Epoch 3/10\n",
            "51/51 - 10s - 201ms/step - accuracy: 0.9018 - loss: 0.2959\n",
            "Epoch 4/10\n",
            "51/51 - 10s - 203ms/step - accuracy: 0.9263 - loss: 0.2275\n",
            "Epoch 5/10\n",
            "51/51 - 10s - 202ms/step - accuracy: 0.9595 - loss: 0.1310\n",
            "Epoch 6/10\n",
            "51/51 - 10s - 199ms/step - accuracy: 0.9490 - loss: 0.1602\n",
            "Epoch 7/10\n",
            "51/51 - 10s - 198ms/step - accuracy: 0.9601 - loss: 0.1141\n",
            "Epoch 8/10\n",
            "51/51 - 10s - 199ms/step - accuracy: 0.9711 - loss: 0.0950\n",
            "Epoch 9/10\n",
            "51/51 - 10s - 204ms/step - accuracy: 0.9669 - loss: 0.0978\n",
            "Epoch 10/10\n",
            "51/51 - 10s - 201ms/step - accuracy: 0.9730 - loss: 0.0682\n"
          ]
        },
        {
          "output_type": "execute_result",
          "data": {
            "text/plain": [
              "<keras.src.callbacks.history.History at 0x7f42b095d460>"
            ]
          },
          "metadata": {},
          "execution_count": 12
        }
      ]
    },
    {
      "cell_type": "markdown",
      "source": [
        "# **Model Evaluation (EfficientNet)**"
      ],
      "metadata": {
        "id": "O56KI3H9Npwz"
      }
    },
    {
      "cell_type": "code",
      "source": [
        "val_loss_eff, val_acc_eff = model.evaluate(X_test, y_test)\n",
        "print (f\"Loss = {val_loss_eff}\")\n",
        "print (f\"Test Accuracy = {val_acc_eff}\")"
      ],
      "metadata": {
        "colab": {
          "base_uri": "https://localhost:8080/"
        },
        "id": "utnPHoMJN0GH",
        "outputId": "7402141a-33ff-4f96-cf02-462387fe2a30"
      },
      "execution_count": null,
      "outputs": [
        {
          "output_type": "stream",
          "name": "stdout",
          "text": [
            "\u001b[1m17/17\u001b[0m \u001b[32m━━━━━━━━━━━━━━━━━━━━\u001b[0m\u001b[37m\u001b[0m \u001b[1m1s\u001b[0m 42ms/step - accuracy: 0.5053 - loss: 4.3616\n",
            "Loss = 4.584354877471924\n",
            "Test Accuracy = 0.4843462109565735\n"
          ]
        }
      ]
    },
    {
      "cell_type": "code",
      "source": [
        "# Model prediction\n",
        "y_pred_eff = model.predict(X_test)\n",
        "y_pred_classes_eff = np.argmax(y_pred_eff, axis=1)"
      ],
      "metadata": {
        "colab": {
          "base_uri": "https://localhost:8080/"
        },
        "id": "nmwjvEOJ1jSG",
        "outputId": "78326699-be42-40b4-a690-878b907e8dbd"
      },
      "execution_count": null,
      "outputs": [
        {
          "output_type": "stream",
          "name": "stdout",
          "text": [
            "\u001b[1m17/17\u001b[0m \u001b[32m━━━━━━━━━━━━━━━━━━━━\u001b[0m\u001b[37m\u001b[0m \u001b[1m14s\u001b[0m 425ms/step\n"
          ]
        }
      ]
    },
    {
      "cell_type": "code",
      "source": [
        "from sklearn.metrics import confusion_matrix\n",
        "import seaborn as sns\n",
        "import matplotlib.pyplot as plt\n",
        "\n",
        "# Generate the confusion matrix for EfficientNet\n",
        "cm_eff = confusion_matrix(y_true_indices, y_pred_classes_eff) # Use y_true_indices and y_pred_classes_eff\n",
        "\n",
        "# Display the confusion matrix using seaborn\n",
        "plt.figure(figsize=(8, 6))\n",
        "sns.heatmap(cm_eff, annot=True, fmt='d', cmap='Blues', xticklabels=class_labels, yticklabels=class_labels)\n",
        "plt.xlabel('Predicted Label')\n",
        "plt.ylabel('True Label')\n",
        "plt.title('Confusion Matrix (EfficientNet)')\n",
        "plt.show()"
      ],
      "metadata": {
        "colab": {
          "base_uri": "https://localhost:8080/",
          "height": 564
        },
        "id": "FVqHnr4F1MiK",
        "outputId": "44cffdd2-5e50-4fc5-9fad-f45ce15a85b5"
      },
      "execution_count": null,
      "outputs": [
        {
          "output_type": "display_data",
          "data": {
            "text/plain": [
              "<Figure size 800x600 with 2 Axes>"
            ],
            "image/png": "[encoded data removed]"
          },
          "metadata": {}
        }
      ]
    },
    {
      "cell_type": "markdown",
      "source": [
        "# **Few Shot Learning (Prototypical Network)**"
      ],
      "metadata": {
        "id": "UfeaCwoZ7ZJo"
      }
    },
    {
      "cell_type": "code",
      "source": [],
      "metadata": {
        "id": "IQh_-oMDFeZt"
      },
      "execution_count": null,
      "outputs": []
    }
  ]
}